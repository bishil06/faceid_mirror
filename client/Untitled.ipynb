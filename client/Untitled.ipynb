{
 "cells": [
  {
   "cell_type": "code",
   "execution_count": 2,
   "metadata": {},
   "outputs": [
    {
     "name": "stdout",
     "output_type": "stream",
     "text": [
      "Downloading data from https://storage.googleapis.com/tensorflow/keras-applications/mobilenet_v2/mobilenet_v2_weights_tf_dim_ordering_tf_kernels_1.0_224_no_top.h5\n",
      "\n",
      "   8192/9406464 [..............................] - ETA: 0s\n",
      " 581632/9406464 [>.............................] - ETA: 0s\n",
      "1171456/9406464 [==>...........................] - ETA: 0s\n",
      "1777664/9406464 [====>.........................] - ETA: 0s\n",
      "2383872/9406464 [======>.......................] - ETA: 0s\n",
      "2990080/9406464 [========>.....................] - ETA: 0s\n",
      "3579904/9406464 [==========>...................] - ETA: 0s\n",
      "4169728/9406464 [============>.................] - ETA: 0s\n",
      "4775936/9406464 [==============>...............] - ETA: 0s\n",
      "5365760/9406464 [================>.............] - ETA: 0s\n",
      "5971968/9406464 [==================>...........] - ETA: 0s\n",
      "6578176/9406464 [===================>..........] - ETA: 0s\n",
      "7184384/9406464 [=====================>........] - ETA: 0s\n",
      "7774208/9406464 [=======================>......] - ETA: 0s\n",
      "8380416/9406464 [=========================>....] - ETA: 0s\n",
      "8986624/9406464 [===========================>..] - ETA: 0s\n",
      "9412608/9406464 [==============================] - 1s 0us/step\n",
      "[*] load ckpt from ./checkpoints/retinaface_mbv2\\ckpt-81.\n",
      "[*] Processing on single image ./data/0_Parade_marchingband_1_149.jpg\n",
      "[*] save result at out_0_Parade_marchingband_1_149.jpg\n"
     ]
    },
    {
     "name": "stderr",
     "output_type": "stream",
     "text": [
      "2020-11-05 09:59:15.413466: W tensorflow/stream_executor/platform/default/dso_loader.cc:59] Could not load dynamic library 'cudart64_101.dll'; dlerror: cudart64_101.dll not found\n",
      "2020-11-05 09:59:15.413520: I tensorflow/stream_executor/cuda/cudart_stub.cc:29] Ignore above cudart dlerror if you do not have a GPU set up on your machine.\n",
      "2020-11-05 09:59:19.450981: I tensorflow/stream_executor/platform/default/dso_loader.cc:48] Successfully opened dynamic library nvcuda.dll\n",
      "2020-11-05 09:59:19.474269: I tensorflow/core/common_runtime/gpu/gpu_device.cc:1716] Found device 0 with properties: \n",
      "pciBusID: 0000:01:00.0 name: GeForce GTX 1080 computeCapability: 6.1\n",
      "coreClock: 1.797GHz coreCount: 20 deviceMemorySize: 8.00GiB deviceMemoryBandwidth: 298.32GiB/s\n",
      "2020-11-05 09:59:19.477737: W tensorflow/stream_executor/platform/default/dso_loader.cc:59] Could not load dynamic library 'cudart64_101.dll'; dlerror: cudart64_101.dll not found\n",
      "2020-11-05 09:59:19.480894: W tensorflow/stream_executor/platform/default/dso_loader.cc:59] Could not load dynamic library 'cublas64_10.dll'; dlerror: cublas64_10.dll not found\n",
      "2020-11-05 09:59:19.484073: W tensorflow/stream_executor/platform/default/dso_loader.cc:59] Could not load dynamic library 'cufft64_10.dll'; dlerror: cufft64_10.dll not found\n",
      "2020-11-05 09:59:19.487323: W tensorflow/stream_executor/platform/default/dso_loader.cc:59] Could not load dynamic library 'curand64_10.dll'; dlerror: curand64_10.dll not found\n",
      "2020-11-05 09:59:19.490519: W tensorflow/stream_executor/platform/default/dso_loader.cc:59] Could not load dynamic library 'cusolver64_10.dll'; dlerror: cusolver64_10.dll not found\n",
      "2020-11-05 09:59:19.493714: W tensorflow/stream_executor/platform/default/dso_loader.cc:59] Could not load dynamic library 'cusparse64_10.dll'; dlerror: cusparse64_10.dll not found\n",
      "2020-11-05 09:59:19.496926: W tensorflow/stream_executor/platform/default/dso_loader.cc:59] Could not load dynamic library 'cudnn64_7.dll'; dlerror: cudnn64_7.dll not found\n",
      "2020-11-05 09:59:19.496937: W tensorflow/core/common_runtime/gpu/gpu_device.cc:1753] Cannot dlopen some GPU libraries. Please make sure the missing libraries mentioned above are installed properly if you would like to use GPU. Follow the guide at https://www.tensorflow.org/install/gpu for how to download and setup the required libraries for your platform.\n",
      "Skipping registering GPU devices...\n",
      "2020-11-05 09:59:19.511378: I tensorflow/core/platform/cpu_feature_guard.cc:142] This TensorFlow binary is optimized with oneAPI Deep Neural Network Library (oneDNN)to use the following CPU instructions in performance-critical operations:  AVX2\n",
      "To enable them in other operations, rebuild TensorFlow with the appropriate compiler flags.\n",
      "2020-11-05 09:59:19.518704: I tensorflow/compiler/xla/service/service.cc:168] XLA service 0x19c113b86d0 initialized for platform Host (this does not guarantee that XLA will be used). Devices:\n",
      "2020-11-05 09:59:19.518728: I tensorflow/compiler/xla/service/service.cc:176]   StreamExecutor device (0): Host, Default Version\n",
      "2020-11-05 09:59:19.518885: I tensorflow/core/common_runtime/gpu/gpu_device.cc:1257] Device interconnect StreamExecutor with strength 1 edge matrix:\n",
      "2020-11-05 09:59:19.518893: I tensorflow/core/common_runtime/gpu/gpu_device.cc:1263]      \n"
     ]
    }
   ],
   "source": [
    "!test.py --cfg_path=\"./configs/retinaface_mbv2.yaml\" --img_path=\"./data/0_Parade_marchingband_1_149.jpg\" --down_scale_factor=1.0"
   ]
  }
 ],
 "metadata": {
  "kernelspec": {
   "display_name": "Python 3",
   "language": "python",
   "name": "python3"
  },
  "language_info": {
   "codemirror_mode": {
    "name": "ipython",
    "version": 3
   },
   "file_extension": ".py",
   "mimetype": "text/x-python",
   "name": "python",
   "nbconvert_exporter": "python",
   "pygments_lexer": "ipython3",
   "version": "3.8.3"
  }
 },
 "nbformat": 4,
 "nbformat_minor": 4
}
