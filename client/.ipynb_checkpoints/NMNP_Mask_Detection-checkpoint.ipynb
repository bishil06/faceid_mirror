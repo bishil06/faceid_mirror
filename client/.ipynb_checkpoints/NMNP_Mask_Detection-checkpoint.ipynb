{
 "cells": [
  {
   "cell_type": "code",
   "execution_count": 2,
   "metadata": {},
   "outputs": [
    {
     "name": "stdout",
     "output_type": "stream",
     "text": [
      "Collecting imutils\n",
      "  Downloading imutils-0.5.3.tar.gz (17 kB)\n",
      "Building wheels for collected packages: imutils\n",
      "  Building wheel for imutils (setup.py): started\n",
      "  Building wheel for imutils (setup.py): finished with status 'done'\n",
      "  Created wheel for imutils: filename=imutils-0.5.3-py3-none-any.whl size=25856 sha256=a6c0e2414a9b2e069995f3e24fcd0618cb51152338adc87f6220f6f349904da4\n",
      "  Stored in directory: c:\\users\\cho\\appdata\\local\\pip\\cache\\wheels\\c8\\d6\\0f\\b0c3892b70c59f0d202f8619a449f7d14cb839a0af2f943869\n",
      "Successfully built imutils\n",
      "Installing collected packages: imutils\n",
      "Successfully installed imutils-0.5.3\n",
      "Note: you may need to restart the kernel to use updated packages.\n"
     ]
    }
   ],
   "source": [
    "pip install imutils"
   ]
  },
  {
   "cell_type": "code",
   "execution_count": 1,
   "metadata": {},
   "outputs": [],
   "source": [
    "import os\n",
    "import zipfile\n",
    "import random\n",
    "import shutil\n",
    "import time\n",
    "import tensorflow as tf\n",
    "from tensorflow.keras.optimizers import RMSprop\n",
    "from tensorflow.keras.preprocessing.image import ImageDataGenerator\n",
    "from shutil import copyfile\n",
    "from os import getcwd\n",
    "from os import listdir\n",
    "import cv2\n",
    "from tensorflow.keras.layers import Conv2D, Input, ZeroPadding2D, BatchNormalization, Activation, MaxPooling2D, Flatten, Dense\n",
    "from tensorflow.keras.models import Model, load_model\n",
    "from tensorflow.keras.callbacks import TensorBoard, ModelCheckpoint\n",
    "from sklearn.model_selection import train_test_split\n",
    "from sklearn.metrics import f1_score\n",
    "from sklearn.utils import shuffle\n",
    "import imutils\n",
    "import numpy as np\n",
    "import matplotlib.pyplot as plt\n",
    "import matplotlib.image  as mpimg"
   ]
  },
  {
   "cell_type": "code",
   "execution_count": 3,
   "metadata": {},
   "outputs": [
    {
     "name": "stdout",
     "output_type": "stream",
     "text": [
      "The number of images with facemask labelled 'yes': 27784\n",
      "The number of images with facemask labelled 'no': 30000\n"
     ]
    }
   ],
   "source": [
    "#수집한 데이터셋 수량 비교 (Yes = 착용, No = 미착용)\n",
    "print(\"The number of images with facemask labelled 'yes':\",len(os.listdir('../Mask/YES')))\n",
    "print(\"The number of images with facemask labelled 'no':\",len(os.listdir('../Mask/NO')))"
   ]
  },
  {
   "cell_type": "markdown",
   "metadata": {},
   "source": [
    "## 데이터 전처리 (폴더 분류)"
   ]
  },
  {
   "cell_type": "code",
   "execution_count": null,
   "metadata": {},
   "outputs": [],
   "source": [
    "#데이터를 폴더별로 분배\n",
    "def split_data(SOURCE, TRAINING, TESTING, SPLIT_SIZE):\n",
    "    dataset = []\n",
    "    \n",
    "    for unitData in os.listdir(SOURCE):\n",
    "        data = SOURCE + unitData\n",
    "        if(os.path.getsize(data) > 0):\n",
    "            dataset.append(unitData)\n",
    "        else:\n",
    "            print('Skipped ' + unitData)\n",
    "            print('Invalid file i.e zero size')\n",
    "    \n",
    "    train_set_length = int(len(dataset) * SPLIT_SIZE)\n",
    "    test_set_length = int(len(dataset) - train_set_length)\n",
    "    shuffled_set = random.sample(dataset, len(dataset))\n",
    "    train_set = dataset[0:train_set_length]\n",
    "    test_set = dataset[-test_set_length:]\n",
    "       \n",
    "    for unitData in train_set:\n",
    "        temp_train_set = SOURCE + unitData\n",
    "        final_train_set = TRAINING + unitData\n",
    "        copyfile(temp_train_set, final_train_set)\n",
    "    \n",
    "    for unitData in test_set:\n",
    "        temp_test_set = SOURCE + unitData\n",
    "        final_test_set = TESTING + unitData\n",
    "        copyfile(temp_test_set, final_test_set)\n",
    "        \n",
    "        \n",
    "YES_SOURCE_DIR = \"../Mask/YES/\"\n",
    "TRAINING_YES_DIR = \"../Mask/trial/training/yes1/\"\n",
    "VALIDATING_YES_DIR = \"../Mask/trial/validating/yes1/\"\n",
    "TESTING_YES_DIR = \"../Mask/trial/testing/yes1/\"\n",
    "NO_SOURCE_DIR = \"../Mask/NO/\"\n",
    "TRAINING_NO_DIR = \"../Mask/trial/training/no1/\"\n",
    "VALIDATING_NO_DIR = \"../Mask/trial/validating/no1/\"\n",
    "TESTING_NO_DIR = \"../Mask/trial/testing/no1/\"\n",
    "\n",
    "#훈련셋과 테스트셋 분배\n",
    "split_size = .9\n",
    "split_data(YES_SOURCE_DIR, TRAINING_YES_DIR, TESTING_YES_DIR, split_size)\n",
    "split_data(NO_SOURCE_DIR, TRAINING_NO_DIR, TESTING_NO_DIR, split_size)\n",
    "\n",
    "#검증셋 분배는 코드화 필요...지금은 그냥 손으로 옮김"
   ]
  },
  {
   "cell_type": "code",
   "execution_count": 5,
   "metadata": {},
   "outputs": [
    {
     "name": "stdout",
     "output_type": "stream",
     "text": [
      "The number of images with facemask in the training set labelled 'yes': 20005\n",
      "The number of images with facemask in the validate set labelled 'yes': 5000\n",
      "The number of images with facemask in the test set labelled 'yes': 2779\n",
      "The number of images without facemask in the training set labelled 'no': 21600\n",
      "The number of images with facemask in the validate set labelled 'no': 5400\n",
      "The number of images without facemask in the test set labelled 'no': 3000\n"
     ]
    }
   ],
   "source": [
    "print(\"The number of images with facemask in the training set labelled 'yes':\", len(os.listdir('../Mask/trial/training/yes1/')))\n",
    "print(\"The number of images with facemask in the validate set labelled 'yes':\", len(os.listdir('../Mask/trial/validating/yes1/')))\n",
    "print(\"The number of images with facemask in the test set labelled 'yes':\", len(os.listdir('../Mask/trial/testing/yes1/')))\n",
    "\n",
    "print(\"The number of images without facemask in the training set labelled 'no':\", len(os.listdir('../Mask/trial/training/no1/')))\n",
    "print(\"The number of images with facemask in the validate set labelled 'no':\", len(os.listdir('../Mask/trial/validating/no1/')))\n",
    "print(\"The number of images without facemask in the test set labelled 'no':\", len(os.listdir('../Mask/trial/testing/no1/')))\n"
   ]
  },
  {
   "cell_type": "markdown",
   "metadata": {},
   "source": [
    "## 모델 정의 & 학습"
   ]
  },
  {
   "cell_type": "code",
   "execution_count": 42,
   "metadata": {},
   "outputs": [],
   "source": [
    "#CNN model 정의\n",
    "model = tf.keras.models.Sequential([\n",
    "    tf.keras.layers.Conv2D(32, (5,5), activation='relu', input_shape=(112, 112, 3)),\n",
    "    tf.keras.layers.MaxPooling2D(2,2),\n",
    "    \n",
    "    tf.keras.layers.Conv2D(64, (3,3), activation='relu'),\n",
    "    tf.keras.layers.MaxPooling2D(2,2),\n",
    "    \n",
    "    tf.keras.layers.Conv2D(128, (3,3), activation='relu'),\n",
    "    tf.keras.layers.MaxPooling2D(2,2),\n",
    "    \n",
    "    tf.keras.layers.Flatten(),\n",
    "    tf.keras.layers.Dense(64, activation='relu'),\n",
    "    tf.keras.layers.Dropout(0.5),    \n",
    "    tf.keras.layers.Dense(2, activation='softmax')\n",
    "])\n",
    "model.compile(optimizer='adam', loss='binary_crossentropy', metrics=['acc'])"
   ]
  },
  {
   "cell_type": "code",
   "execution_count": 43,
   "metadata": {},
   "outputs": [
    {
     "name": "stdout",
     "output_type": "stream",
     "text": [
      "load model to disk\n"
     ]
    }
   ],
   "source": [
    "#학습이 완료된 모델을 불러올 수 있음\n",
    "#위의 모델정의 후에 이 코드 실행해야 불러와짐\n",
    "#model.load_weights(\"model_weight.h5\")\n",
    "#print(\"load model to disk\")"
   ]
  },
  {
   "cell_type": "code",
   "execution_count": 70,
   "metadata": {},
   "outputs": [
    {
     "name": "stdout",
     "output_type": "stream",
     "text": [
      "Found 41605 images belonging to 2 classes.\n",
      "Found 10400 images belonging to 2 classes.\n",
      "Found 832 images belonging to 2 classes.\n"
     ]
    }
   ],
   "source": [
    "###훈련을 진행할 경우에만 실행###\n",
    "TRAINING_DIR = \"../Mask/trial/training\"\n",
    "#이미지에 적절한 변형을 주어 훈련(다양성)\n",
    "train = ImageDataGenerator(rescale=1.0/255,\n",
    "                                   rotation_range=40,\n",
    "                                   width_shift_range=0.2,\n",
    "                                   height_shift_range=0.2,\n",
    "                                   shear_range=0.2,\n",
    "                                   zoom_range=0.2,\n",
    "                                   horizontal_flip=True,\n",
    "                                   fill_mode='nearest')\n",
    "\n",
    "train_set = train.flow_from_directory(TRAINING_DIR, \n",
    "                                                    batch_size=200, \n",
    "                                                    target_size=(112, 112))\n",
    "VALIDATION_DIR = \"../Mask/trial/validating\"\n",
    "validation = ImageDataGenerator(rescale=1.0/255)\n",
    "validation_set = validation.flow_from_directory(VALIDATION_DIR, \n",
    "                                                         batch_size=200, \n",
    "                                                         target_size=(112, 112))\n",
    "TEST_DIR = \"../Mask/trial/testing\"\n",
    "test = ImageDataGenerator(rescale=1.0/255)\n",
    "test_set = test.flow_from_directory(TEST_DIR, batch_size=10, target_size=(112, 112))\n",
    "\n",
    "checkpoint = ModelCheckpoint('model-{epoch:03d}.model',monitor='val_loss',verbose=0,save_best_only=True,mode='auto')"
   ]
  },
  {
   "cell_type": "code",
   "execution_count": null,
   "metadata": {},
   "outputs": [],
   "source": [
    "###훈련을 진행할 경우에만 실행###\n",
    "#모델 학습 batch_size는 gererator에서 수정\n",
    "history = model.fit(train_set,\n",
    "                              epochs=10,\n",
    "                              validation_data=validation_generator,\n",
    "                              callbacks=[checkpoint])"
   ]
  },
  {
   "cell_type": "code",
   "execution_count": null,
   "metadata": {},
   "outputs": [],
   "source": [
    "#학습이 끝난 모델을 저장\n",
    "#model.save_weights(\"model_weight.h5\")\n",
    "#print(\"Saved model to disk\")"
   ]
  },
  {
   "cell_type": "code",
   "execution_count": 23,
   "metadata": {},
   "outputs": [
    {
     "data": {
      "image/png": "[encoded data removed]",
      "text/plain": [
       "<Figure size 432x288 with 1 Axes>"
      ]
     },
     "metadata": {
      "needs_background": "light"
     },
     "output_type": "display_data"
    }
   ],
   "source": [
    "#훈련 결과 시각화\n",
    "plt.plot(history.history['acc'])\n",
    "plt.plot(history.history['val_acc'])\n",
    "plt.legend(['training', 'validation'], loc = 'upper left')\n",
    "plt.show()"
   ]
  },
  {
   "cell_type": "code",
   "execution_count": 38,
   "metadata": {
    "scrolled": true
   },
   "outputs": [
    {
     "name": "stdout",
     "output_type": "stream",
     "text": [
      "1.192509651184082\n"
     ]
    }
   ],
   "source": [
    "#test_set으로 예측\n",
    "import time\n",
    "start = time.time()\n",
    "value = model.predict(test_set)\n",
    "print(time.time() - start)"
   ]
  },
  {
   "cell_type": "code",
   "execution_count": 44,
   "metadata": {},
   "outputs": [
    {
     "name": "stdout",
     "output_type": "stream",
     "text": [
      "-- Evaluate --\n",
      "84/84 [==============================] - 1s 15ms/step - loss: 0.0157 - acc: 0.9952\n",
      "acc: 99.52%\n"
     ]
    }
   ],
   "source": [
    "#test_set으로 모델 평가\n",
    "print(\"-- Evaluate --\")\n",
    "scores = model.evaluate(test_set)\n",
    "print(\"%s: %.2f%%\" %(model.metrics_names[1], scores[1]*100))"
   ]
  },
  {
   "cell_type": "markdown",
   "metadata": {},
   "source": [
    "## RetinaFace모델과 같이 Inference"
   ]
  },
  {
   "cell_type": "code",
   "execution_count": 45,
   "metadata": {},
   "outputs": [],
   "source": [
    "from modules.models import RetinaFaceModel\n",
    "from modules.utils import (set_memory_growth, load_yaml, draw_bbox_landm,\n",
    "                           pad_input_image, recover_pad_output)"
   ]
  },
  {
   "cell_type": "code",
   "execution_count": 46,
   "metadata": {
    "scrolled": true
   },
   "outputs": [
    {
     "name": "stdout",
     "output_type": "stream",
     "text": [
      "WARNING:tensorflow:`input_shape` is undefined or non-square, or `rows` is not in [96, 128, 160, 192, 224]. Weights for input shape (224, 224) will be loaded as the default.\n",
      "WARNING:tensorflow:Inconsistent references when loading the checkpoint into this object graph. Either the Trackable object references in the Python program have changed in an incompatible way, or the checkpoint was generated in an incompatible program.\n",
      "\n",
      "Two checkpoint references resolved to different objects (<tensorflow.python.keras.engine.functional.Functional object at 0x000001750870DA30> and <tensorflow.python.keras.engine.base_layer.TensorFlowOpLayer object at 0x000001750560C520>).\n",
      "WARNING:tensorflow:Inconsistent references when loading the checkpoint into this object graph. Either the Trackable object references in the Python program have changed in an incompatible way, or the checkpoint was generated in an incompatible program.\n",
      "\n",
      "Two checkpoint references resolved to different objects (<modules.models.FPN object at 0x000001750870D850> and <tensorflow.python.keras.engine.base_layer.TensorFlowOpLayer object at 0x000001750560C790>).\n",
      "WARNING:tensorflow:Inconsistent references when loading the checkpoint into this object graph. Either the Trackable object references in the Python program have changed in an incompatible way, or the checkpoint was generated in an incompatible program.\n",
      "\n",
      "Two checkpoint references resolved to different objects (<modules.models.SSH object at 0x0000017504C54B20> and <tensorflow.python.keras.engine.base_layer.TensorFlowOpLayer object at 0x00000175056320A0>).\n",
      "WARNING:tensorflow:Inconsistent references when loading the checkpoint into this object graph. Either the Trackable object references in the Python program have changed in an incompatible way, or the checkpoint was generated in an incompatible program.\n",
      "\n",
      "Two checkpoint references resolved to different objects (<modules.models.SSH object at 0x0000017504C54C40> and <tensorflow.python.keras.engine.base_layer.TensorFlowOpLayer object at 0x0000017505633CD0>).\n",
      "WARNING:tensorflow:Inconsistent references when loading the checkpoint into this object graph. Either the Trackable object references in the Python program have changed in an incompatible way, or the checkpoint was generated in an incompatible program.\n",
      "\n",
      "Two checkpoint references resolved to different objects (<modules.models.SSH object at 0x0000017504DCF880> and <tensorflow.python.keras.engine.base_layer.TensorFlowOpLayer object at 0x0000017505633C70>).\n",
      "WARNING:tensorflow:Inconsistent references when loading the checkpoint into this object graph. Either the Trackable object references in the Python program have changed in an incompatible way, or the checkpoint was generated in an incompatible program.\n",
      "\n",
      "Two checkpoint references resolved to different objects (<modules.models.ClassHead object at 0x000001750545EE20> and <tensorflow.python.keras.engine.base_layer.TensorFlowOpLayer object at 0x0000017505622EE0>).\n",
      "WARNING:tensorflow:Inconsistent references when loading the checkpoint into this object graph. Either the Trackable object references in the Python program have changed in an incompatible way, or the checkpoint was generated in an incompatible program.\n",
      "\n",
      "Two checkpoint references resolved to different objects (<modules.models.ClassHead object at 0x000001750545A460> and <tensorflow.python.keras.engine.base_layer.TensorFlowOpLayer object at 0x0000017505633910>).\n",
      "WARNING:tensorflow:Inconsistent references when loading the checkpoint into this object graph. Either the Trackable object references in the Python program have changed in an incompatible way, or the checkpoint was generated in an incompatible program.\n",
      "\n",
      "Two checkpoint references resolved to different objects (<modules.models.ClassHead object at 0x0000017505448E80> and <tensorflow.python.keras.engine.base_layer.TensorFlowOpLayer object at 0x000001750560EB80>).\n",
      "WARNING:tensorflow:Inconsistent references when loading the checkpoint into this object graph. Either the Trackable object references in the Python program have changed in an incompatible way, or the checkpoint was generated in an incompatible program.\n",
      "\n",
      "Two checkpoint references resolved to different objects (<modules.models.BboxHead object at 0x0000017504E3E6A0> and <tensorflow.python.keras.engine.base_layer.TensorFlowOpLayer object at 0x0000017505632370>).\n",
      "WARNING:tensorflow:Inconsistent references when loading the checkpoint into this object graph. Either the Trackable object references in the Python program have changed in an incompatible way, or the checkpoint was generated in an incompatible program.\n",
      "\n",
      "Two checkpoint references resolved to different objects (<modules.models.BboxHead object at 0x0000017504C415B0> and <tensorflow.python.keras.engine.base_layer.TensorFlowOpLayer object at 0x0000017505622C10>).\n",
      "WARNING:tensorflow:Inconsistent references when loading the checkpoint into this object graph. Either the Trackable object references in the Python program have changed in an incompatible way, or the checkpoint was generated in an incompatible program.\n",
      "\n",
      "Two checkpoint references resolved to different objects (<modules.models.BboxHead object at 0x000001750543A7C0> and <tensorflow.python.keras.engine.base_layer.TensorFlowOpLayer object at 0x0000017505627E80>).\n",
      "WARNING:tensorflow:Inconsistent references when loading the checkpoint into this object graph. Either the Trackable object references in the Python program have changed in an incompatible way, or the checkpoint was generated in an incompatible program.\n",
      "\n",
      "Two checkpoint references resolved to different objects (<modules.models.LandmarkHead object at 0x000001750543FAC0> and <tensorflow.python.keras.engine.base_layer.TensorFlowOpLayer object at 0x00000175056329D0>).\n",
      "WARNING:tensorflow:Inconsistent references when loading the checkpoint into this object graph. Either the Trackable object references in the Python program have changed in an incompatible way, or the checkpoint was generated in an incompatible program.\n",
      "\n",
      "Two checkpoint references resolved to different objects (<modules.models.LandmarkHead object at 0x0000017505420220> and <tensorflow.python.keras.engine.base_layer.TensorFlowOpLayer object at 0x0000017505723640>).\n",
      "WARNING:tensorflow:Inconsistent references when loading the checkpoint into this object graph. Either the Trackable object references in the Python program have changed in an incompatible way, or the checkpoint was generated in an incompatible program.\n",
      "\n",
      "Two checkpoint references resolved to different objects (<modules.models.LandmarkHead object at 0x0000017505402310> and <tensorflow.python.keras.engine.base_layer.TensorFlowOpLayer object at 0x000001750560E970>).\n",
      "[*] load ckpt from ./checkpoints/retinaface_mbv2\\ckpt-81.\n"
     ]
    }
   ],
   "source": [
    "cfg = load_yaml('./configs/retinaface_mbv2.yaml')\n",
    "\n",
    "# define network\n",
    "model1 = RetinaFaceModel(cfg, training=False, iou_th=0.4,\n",
    "                            score_th=0.5)\n",
    "\n",
    "# load checkpoint\n",
    "checkpoint_dir = './checkpoints/' + cfg['sub_name']\n",
    "checkpoint = tf.train.Checkpoint(model=model1)\n",
    "if tf.train.latest_checkpoint(checkpoint_dir):\n",
    "    checkpoint.restore(tf.train.latest_checkpoint(checkpoint_dir))\n",
    "    print(\"[*] load ckpt from {}.\".format(\n",
    "        tf.train.latest_checkpoint(checkpoint_dir)))\n",
    "else:\n",
    "    print(\"[*] Cannot find ckpt from {}.\".format(checkpoint_dir))\n",
    "    exit()"
   ]
  },
  {
   "cell_type": "code",
   "execution_count": 68,
   "metadata": {},
   "outputs": [],
   "source": [
    "labels_dict={0:'without_mask',1:'with_mask'}\n",
    "color_dict={0:(0,0,255),1:(0,255,0)}\n",
    "np.set_printoptions(formatter={'float': lambda x: \"{0:0.3f}\".format(x)})\n",
    "\n",
    "#webcam read\n",
    "cam = cv2.VideoCapture(0)\n",
    "cam.set(cv2.CAP_PROP_FRAME_WIDTH, 640)\n",
    "cam.set(cv2.CAP_PROP_FRAME_HEIGHT, 480)\n",
    "start_time = time.time()\n",
    "while True:\n",
    "    _, frame = cam.read()\n",
    "    frame = cv2.flip(frame, 1)\n",
    "    if frame is None:\n",
    "        print(\"no cam input\")\n",
    "          \n",
    "    frame_height, frame_width, _ = frame.shape\n",
    "    img = np.float32(frame.copy())\n",
    "    img = cv2.resize(img, (0, 0), fx=0.2, fy=0.2, interpolation=cv2.INTER_LINEAR)\n",
    "    img = cv2.cvtColor(img, cv2.COLOR_BGR2RGB)\n",
    "\n",
    "    # pad input image to avoid unmatched shape problem\n",
    "    img, pad_params = pad_input_image(img, 32)\n",
    "\n",
    "    # run model\n",
    "    outputs = model1(img[np.newaxis, ...]).numpy()\n",
    "\n",
    "    # recover padding effect\n",
    "    outputs = recover_pad_output(outputs, pad_params)\n",
    "    cv2.putText(frame, str(len(outputs)), (100, 50),cv2.FONT_HERSHEY_SIMPLEX,0.8,(0,255,0),2)\n",
    "    if len(outputs) == 0 or len(outputs) >= 2:\n",
    "        pass\n",
    "    elif len(outputs) == 1:\n",
    "        # 얼굴 박스만 따서 이미지 자르기\n",
    "        bounding_box = outputs[0,:4]\n",
    "        x1, y1, x2, y2 = bounding_box[0] * frame_width, bounding_box[1] * frame_height, \\\n",
    "                         bounding_box[2] * frame_width, bounding_box[3] * frame_height\n",
    "        \n",
    "        bb_width = x2 - x1\n",
    "        bb_height = y2 - y1\n",
    "    \n",
    "        if bb_height < 112:\n",
    "            cv2.putText(frame, \"Please Come Closer\", (200, 50),cv2.FONT_HERSHEY_SIMPLEX,0.8,(0,255,0),2)\n",
    "        elif bb_height > 112:\n",
    "            # 얼굴이 세로가 더 길기때문에 가로길이를 좀 더 늘려서 세로 비율 동일하게 얼굴영역 산출\n",
    "            pad = (bb_height - bb_width) / 2\n",
    "            x1 -= (10+pad)\n",
    "            x2 += (10+pad)\n",
    "            y1 -= 10\n",
    "            y2 += 10\n",
    "            # 얼굴영역 자르기\n",
    "            if x1 < 0 or x2 > frame_width:\n",
    "                pass\n",
    "            else:\n",
    "                face_img = frame[int(y1):int(y2), int(x1):int(x2)]\n",
    "                # 112x112 리사이징\n",
    "                resized=cv2.resize(face_img,(112,112))\n",
    "                resized=cv2.cvtColor(resized, cv2.COLOR_BGR2RGB)\n",
    "                #plt.imshow(resized)\n",
    "                #plt.show()\n",
    "                normalized=resized/255.0\n",
    "                reshaped=np.reshape(normalized,(1,112,112,3))\n",
    "                reshaped = np.vstack([reshaped])\n",
    "                result=model.predict(reshaped)\n",
    "                \n",
    "                label=np.argmax(result,axis=1)[0]\n",
    "                \n",
    "                if result[0][1] == 1.0:\n",
    "                    cv2.rectangle(frame,(int(x1),int(y1)),(int(x2),int(y2)),color_dict[1],2)\n",
    "                    cv2.rectangle(frame,(int(x1),int(y1-40)),(int(x2),int(y1)),color_dict[1],-1)\n",
    "                    cv2.putText(frame, labels_dict[1], (int(x1), int(y1-10)),cv2.FONT_HERSHEY_SIMPLEX,0.5,(255,255,255),2)\n",
    "                    cv2.putText(frame, str(result[0][-5:]), (int(x1), int(y1-50)),cv2.FONT_HERSHEY_SIMPLEX,0.5,(0,255,0),2)\n",
    "                else:\n",
    "                    cv2.rectangle(frame,(int(x1),int(y1)),(int(x2),int(y2)),color_dict[0],2)\n",
    "                    cv2.rectangle(frame,(int(x1),int(y1-40)),(int(x2),int(y1)),color_dict[0],-1)\n",
    "                    cv2.putText(frame, labels_dict[0], (int(x1), int(y1-10)),cv2.FONT_HERSHEY_SIMPLEX,0.5,(255,255,255),2)\n",
    "                    cv2.putText(frame, str(result[0][-5:]), (int(x1), int(y1-50)),cv2.FONT_HERSHEY_SIMPLEX,0.5,(0,255,0),2)\n",
    "    else:\n",
    "        pass\n",
    "              \n",
    "    # calculate fps\n",
    "    fps_str = \"FPS: %.2f\" % (1 / (time.time() - start_time))\n",
    "    start_time = time.time()\n",
    "    cv2.putText(frame, fps_str, (25, 25), cv2.FONT_HERSHEY_DUPLEX, 0.75, (0, 255, 0), 1)\n",
    "    \n",
    "    # show frame           \n",
    "    cv2.imshow('frame', frame)\n",
    "    \n",
    "    if cv2.waitKey(10) == ord('q'):\n",
    "        break\n",
    "        \n",
    "# Stop video\n",
    "cam.release()\n",
    "# Close all started windows\n",
    "cv2.destroyAllWindows()"
   ]
  },
  {
   "cell_type": "code",
   "execution_count": 78,
   "metadata": {},
   "outputs": [],
   "source": [
    "# Stop video\n",
    "cam.release()\n",
    "# Close all started windows\n",
    "cv2.destroyAllWindows()"
   ]
  }
 ],
 "metadata": {
  "kernelspec": {
   "display_name": "Python 3",
   "language": "python",
   "name": "python3"
  },
  "language_info": {
   "codemirror_mode": {
    "name": "ipython",
    "version": 3
   },
   "file_extension": ".py",
   "mimetype": "text/x-python",
   "name": "python",
   "nbconvert_exporter": "python",
   "pygments_lexer": "ipython3",
   "version": "3.8.3"
  }
 },
 "nbformat": 4,
 "nbformat_minor": 4
}
